{
  "nbformat": 4,
  "nbformat_minor": 0,
  "metadata": {
    "colab": {
      "name": "tarea_02.ipynb",
      "provenance": [],
      "collapsed_sections": []
    },
    "kernelspec": {
      "name": "python3",
      "display_name": "Python 3"
    },
    "language_info": {
      "name": "python"
    }
  },
  "cells": [
    {
      "cell_type": "markdown",
      "metadata": {
        "id": "COxHxMGh2vFf"
      },
      "source": [
        "# **Deep Learning**\n",
        "\n",
        "## **Tarea 2**\n",
        "\n",
        "### **Jorge David Martínez Cervantes**\n",
        "\n",
        "### **CentroGeo**\n",
        "\n",
        "### **19 de mayo del 2021**"
      ]
    },
    {
      "cell_type": "markdown",
      "metadata": {
        "id": "CulqX1uiYClr"
      },
      "source": [
        "# **1 Linear Algebra**\n",
        "\n",
        "Using the linear algebra book of your choice. Prove the following statements\n",
        "\n",
        "  1. Show that if a matrix $A \\in \\mathbb{R}^{n \\times n}$ satisfies $A^2 = 4I_n$, then all eigenvalues of $A$ are 2 and -2.\n",
        "\n",
        "  A partir de la definición de eigenvalores y eigenvectores (Charu, 2020: 103):\n",
        "\n",
        "  $$A\\textbf{x} = \\lambda\\textbf{x}$$\n",
        "\n",
        "  podemos representar la expresión anterior como\n",
        "\n",
        "  $$A^2\\textbf{x} = 4I\\textbf{x},$$\n",
        "\n",
        "  siendo $A = A^2$ y $\\lambda = 4I$. Si pasamos todos los términos al primer miembro de la ecuación obtendremos\n",
        "\n",
        "  $$A^2\\textbf{x} - 4I\\textbf{x} = 0,$$\n",
        "\n",
        "  y aplicamos la propiedad asociativa a la ecuación anterior para factorizar el vector $\\textbf{x}$; de esta forma obtenemos\n",
        "  \n",
        "  $$(A^2 - 4I)\\textbf{x} = 0.$$\n",
        "\n",
        "  La ecuación anterior la podemos descomponer en binomios conjugados para obtener la expresión\n",
        "  \n",
        "  $$(A+2I)(A-2I)\\textbf{x} = 0$$\n",
        "\n",
        "  Y al encontrar las raíces de la expresión anterior, tenemos que los eigenvalores son -2 y 2.\n",
        "\n",
        "  2. Let $A$, $B$ $\\in \\mathbb{R}^{n \\times n}$. Proof that the matrix $AB-BA$ can never be positive semidefinite unless it is the zero matrix.\n",
        "\n",
        "\n",
        "\n",
        "  3. If a matrix $P \\in \\mathbb{R}^{n \\times n}$ satisfies $P^2 = P$, then all its eigenvalues must be 1 or 0.\n",
        "\n",
        "  Parecido al ejercicio 1.1 podemos representar la matriz como\n",
        "\n",
        "  $$P\\textbf{x} = \\lambda\\textbf{x}.$$\n",
        "\n",
        "  Si reacomodamos los términos\n",
        "  \n",
        "  $$P\\textbf{x} - I\\textbf{x} = 0$$\n",
        "\n",
        "  y factorizamos, obtenemos\n",
        "\n",
        "  $$(P-1)\\textbf{x} = 0.$$\n",
        "\n",
        "  De donde obtenemos que el eigenvalor de la ecuación anterior debe ser 1.\n",
        "\n",
        "\n",
        "  4. The columns of the matrix $A \\in \\mathbb{R}^{n \\times d}$ are linearly independent if and only if $c(x) = Ax$ is one-to-one function."
      ]
    },
    {
      "cell_type": "markdown",
      "metadata": {
        "id": "f3JyNj4Qb-2X"
      },
      "source": [
        "# **2 Write a code**\n",
        "\n",
        "Using the deep learning library of your choice, solve the following:\n",
        "\n",
        "  1. The second difference matrix $A \\in \\mathbb{R}^{n \\times n}$ arises in approximating the second derivative on equally spaced data. The formula is:\n",
        "\n",
        "  $$A_{i,j} =  \\Bigg\\{ \\begin{array}{rcl} -2 & \\textrm{if} & j=i  \\\\ \n",
        "  1 & \\textrm{if} &  |j-1| = 1 \\\\ \n",
        "  0 & \\textrm{if} & |j-1| > 1 \\end{array}$$\n",
        "\n",
        "  Write a code that allows you to create this matrix for a given $n$ and find in the literature the characteristics of this matrix. Then, solve a system of equations $A\\textbf{x} = \\textbf{b}$ by :\n",
        "\n",
        "    (a) Calculating the inverse directly.\n",
        "\n",
        "    (b) Employing a numeric strategy for this particular form of matrices.\n",
        "\n",
        "    (c) Create a graphs of computational time and memory cost."
      ]
    },
    {
      "cell_type": "code",
      "metadata": {
        "colab": {
          "base_uri": "https://localhost:8080/"
        },
        "id": "k3irAduDmsp8",
        "outputId": "70dcd201-77e7-4efa-de04-ed1323cd6566"
      },
      "source": [
        "!pip install line_profiler\n",
        "!pip install memory_profiler"
      ],
      "execution_count": 1,
      "outputs": [
        {
          "output_type": "stream",
          "text": [
            "Requirement already satisfied: line_profiler in /usr/local/lib/python3.7/dist-packages (3.2.6)\n",
            "Requirement already satisfied: IPython>=0.13; python_version >= \"3.7\" in /usr/local/lib/python3.7/dist-packages (from line_profiler) (5.5.0)\n",
            "Requirement already satisfied: pygments in /usr/local/lib/python3.7/dist-packages (from IPython>=0.13; python_version >= \"3.7\"->line_profiler) (2.6.1)\n",
            "Requirement already satisfied: setuptools>=18.5 in /usr/local/lib/python3.7/dist-packages (from IPython>=0.13; python_version >= \"3.7\"->line_profiler) (56.1.0)\n",
            "Requirement already satisfied: pexpect; sys_platform != \"win32\" in /usr/local/lib/python3.7/dist-packages (from IPython>=0.13; python_version >= \"3.7\"->line_profiler) (4.8.0)\n",
            "Requirement already satisfied: prompt-toolkit<2.0.0,>=1.0.4 in /usr/local/lib/python3.7/dist-packages (from IPython>=0.13; python_version >= \"3.7\"->line_profiler) (1.0.18)\n",
            "Requirement already satisfied: decorator in /usr/local/lib/python3.7/dist-packages (from IPython>=0.13; python_version >= \"3.7\"->line_profiler) (4.4.2)\n",
            "Requirement already satisfied: pickleshare in /usr/local/lib/python3.7/dist-packages (from IPython>=0.13; python_version >= \"3.7\"->line_profiler) (0.7.5)\n",
            "Requirement already satisfied: traitlets>=4.2 in /usr/local/lib/python3.7/dist-packages (from IPython>=0.13; python_version >= \"3.7\"->line_profiler) (5.0.5)\n",
            "Requirement already satisfied: simplegeneric>0.8 in /usr/local/lib/python3.7/dist-packages (from IPython>=0.13; python_version >= \"3.7\"->line_profiler) (0.8.1)\n",
            "Requirement already satisfied: ptyprocess>=0.5 in /usr/local/lib/python3.7/dist-packages (from pexpect; sys_platform != \"win32\"->IPython>=0.13; python_version >= \"3.7\"->line_profiler) (0.7.0)\n",
            "Requirement already satisfied: wcwidth in /usr/local/lib/python3.7/dist-packages (from prompt-toolkit<2.0.0,>=1.0.4->IPython>=0.13; python_version >= \"3.7\"->line_profiler) (0.2.5)\n",
            "Requirement already satisfied: six>=1.9.0 in /usr/local/lib/python3.7/dist-packages (from prompt-toolkit<2.0.0,>=1.0.4->IPython>=0.13; python_version >= \"3.7\"->line_profiler) (1.15.0)\n",
            "Requirement already satisfied: ipython-genutils in /usr/local/lib/python3.7/dist-packages (from traitlets>=4.2->IPython>=0.13; python_version >= \"3.7\"->line_profiler) (0.2.0)\n",
            "Requirement already satisfied: memory_profiler in /usr/local/lib/python3.7/dist-packages (0.58.0)\n",
            "Requirement already satisfied: psutil in /usr/local/lib/python3.7/dist-packages (from memory_profiler) (5.4.8)\n"
          ],
          "name": "stdout"
        }
      ]
    },
    {
      "cell_type": "code",
      "metadata": {
        "id": "dkoKSwIAm6Xi"
      },
      "source": [
        "%load_ext line_profiler\n",
        "%load_ext memory_profiler"
      ],
      "execution_count": 2,
      "outputs": []
    },
    {
      "cell_type": "code",
      "metadata": {
        "id": "turRunw7mzeX"
      },
      "source": [
        "# Create a matrix\n",
        "import numpy as np\n",
        "import tensorflow as tf\n",
        "from numpy.random import randint as rn\n",
        "\n",
        "def tridiag_matrix(n):\n",
        "    A = tf.linalg.LinearOperatorTridiag([[1. for _ in range(n)],\n",
        "                                          [-2. for _ in range(n)],\n",
        "                                          [1. for _ in range(n)]])\n",
        "    B = [float(x) for x in list(rn(-9,9, int(n)))]\n",
        "    D = tf.constant([[1. for _ in range(n)],\n",
        "                     [-2. for _ in range(n)],\n",
        "                     [1. for _ in range(n)]], dtype=tf.float32)\n",
        " \n",
        "    return A, tf.constant(B, shape = (int(n),1)), D"
      ],
      "execution_count": 3,
      "outputs": []
    },
    {
      "cell_type": "code",
      "metadata": {
        "id": "bFku7CjewE3Y"
      },
      "source": [
        "n = 1000000\n",
        "\n",
        "my_matrix, vector_sol, diags = tridiag_matrix(n)"
      ],
      "execution_count": 8,
      "outputs": []
    },
    {
      "cell_type": "markdown",
      "metadata": {
        "id": "D113LAfTQOFH"
      },
      "source": [
        "Defino ahora las diagonales de mi matriz y mi vector solución"
      ]
    },
    {
      "cell_type": "markdown",
      "metadata": {
        "id": "Hx0L2d-Uooqz"
      },
      "source": [
        "## (a) Calculating the inverse directly\n",
        "\n",
        "Para realizar esto utilizo la función `inv` de la librería de `TensorFlow.linalg`."
      ]
    },
    {
      "cell_type": "code",
      "metadata": {
        "colab": {
          "base_uri": "https://localhost:8080/"
        },
        "id": "CistI-0EHOnW",
        "outputId": "9443e0f6-2015-47ce-9f04-5af44fcb2ae6"
      },
      "source": [
        "def solve_with_inverse(matrix, solution_vector):\n",
        "  inverse = tf.linalg.inv(matrix)\n",
        "  solution = tf.matmul(a = inverse, b = vector_sol).numpy()\n",
        "  return solution\n",
        "\n",
        "fun_time_a = %timeit -o solucion_a = solve_with_inverse(my_matrix, vector_sol)\n",
        "fun_cpu_a = %memit -o solve_with_inverse(my_matrix, vector_sol)\n",
        "#print(solucion_a)\n",
        "\n",
        "print(np.mean(fun_time_a.all_runs))\n",
        "print(fun_cpu_a)"
      ],
      "execution_count": 12,
      "outputs": [
        {
          "output_type": "stream",
          "text": [
            "10 loops, best of 5: 26.8 ms per loop\n",
            "peak memory: 1360.91 MiB, increment: 0.00 MiB\n",
            "0.2750140621996252\n",
            "peak memory: 1360.91 MiB, increment: 0.00 MiB\n"
          ],
          "name": "stdout"
        }
      ]
    },
    {
      "cell_type": "markdown",
      "metadata": {
        "id": "pnJCS2-1Hhgh"
      },
      "source": [
        "## (b) Employing a numeric strategy for this particular form of matrices.\n",
        "\n",
        "Para realizar esto voy a usar la función `tridiagonal_solve` de la librería `TensorFlow.linalg`"
      ]
    },
    {
      "cell_type": "code",
      "metadata": {
        "colab": {
          "base_uri": "https://localhost:8080/"
        },
        "id": "vyR5yUQRHew1",
        "outputId": "4a9e0c38-5a32-48d0-f18d-9143ab2c112b"
      },
      "source": [
        "def solve_with_tfmethod(diagonals, solution_vector):\n",
        "  solution = tf.linalg.tridiagonal_solve(diagonals=diags, rhs=solution_vector)\n",
        "  \n",
        "  return solution\n",
        "  \n",
        "fun_time_b = %timeit -o solucion_b = solve_with_tfmethod(diags, vector_sol)\n",
        "fun_cpu_b = %memit -o solucion_b = solve_with_tfmethod(diags, vector_sol)\n",
        "print(solucion_b)\n",
        "\n",
        "print(np.mean(fun_time_b.all_runs))"
      ],
      "execution_count": 13,
      "outputs": [
        {
          "output_type": "stream",
          "text": [
            "10 loops, best of 5: 21.4 ms per loop\n",
            "peak memory: 1360.91 MiB, increment: 0.00 MiB\n",
            "tf.Tensor(\n",
            "[[2388.626 ]\n",
            " [4773.252 ]\n",
            " [7163.878 ]\n",
            " ...\n",
            " [5175.385 ]\n",
            " [3445.9229]\n",
            " [1723.4614]], shape=(1000000, 1), dtype=float32)\n",
            "0.21682145740051056\n"
          ],
          "name": "stdout"
        }
      ]
    },
    {
      "cell_type": "code",
      "metadata": {
        "colab": {
          "base_uri": "https://localhost:8080/",
          "height": 624
        },
        "id": "fSX7mekmonNT",
        "outputId": "dc4c9f1e-fc32-4153-ad50-4b59ff8562b3"
      },
      "source": [
        "langs = [\"Inversa\", \"Método de TF\"]\n",
        "barras = [np.mean(fun_time_a.all_runs), np.mean(fun_time_b.all_runs)]\n",
        "\n",
        "import matplotlib.pyplot as plt\n",
        "\n",
        "plt.figure(figsize=(17, 10))\n",
        "plt.ylabel(\"Tiempo (ms)\")\n",
        "plt.xlabel(\"Método de solución\")\n",
        "plt.bar(langs, barras)"
      ],
      "execution_count": 14,
      "outputs": [
        {
          "output_type": "execute_result",
          "data": {
            "text/plain": [
              "<BarContainer object of 2 artists>"
            ]
          },
          "metadata": {
            "tags": []
          },
          "execution_count": 14
        },
        {
          "output_type": "display_data",
          "data": {
            "image/png": "[encoded data removed]",
            "text/plain": [
              "<Figure size 1224x720 with 1 Axes>"
            ]
          },
          "metadata": {
            "tags": [],
            "needs_background": "light"
          }
        }
      ]
    },
    {
      "cell_type": "code",
      "metadata": {
        "colab": {
          "base_uri": "https://localhost:8080/",
          "height": 624
        },
        "id": "DytFBx27rpmt",
        "outputId": "46bfd0b3-a0d7-4317-ba56-7f5b5f224309"
      },
      "source": [
        "plt.figure(figsize=(17, 10))\n",
        "plt.ylabel(\"Tiempo (ms)\")\n",
        "plt.xlabel(\"Método de solución\")\n",
        "plt.plot(fun_time_a.all_runs)\n",
        "plt.plot(fun_time_b.all_runs)"
      ],
      "execution_count": 15,
      "outputs": [
        {
          "output_type": "execute_result",
          "data": {
            "text/plain": [
              "[<matplotlib.lines.Line2D at 0x7f52c5b12610>]"
            ]
          },
          "metadata": {
            "tags": []
          },
          "execution_count": 15
        },
        {
          "output_type": "display_data",
          "data": {
            "image/png": "[encoded data removed]",
            "text/plain": [
              "<Figure size 1224x720 with 1 Axes>"
            ]
          },
          "metadata": {
            "tags": [],
            "needs_background": "light"
          }
        }
      ]
    },
    {
      "cell_type": "code",
      "metadata": {
        "id": "YqJGPN0k0kX6"
      },
      "source": [
        "%mprun -T mprof0 solve_with_inverse(my_matrix, vector_sol)"
      ],
      "execution_count": null,
      "outputs": []
    }
  ]
}