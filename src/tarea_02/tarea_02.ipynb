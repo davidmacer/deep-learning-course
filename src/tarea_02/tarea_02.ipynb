{
  "nbformat": 4,
  "nbformat_minor": 0,
  "metadata": {
    "colab": {
      "name": "tarea_02.ipynb",
      "provenance": [],
      "collapsed_sections": []
    },
    "kernelspec": {
      "name": "python3",
      "display_name": "Python 3"
    },
    "language_info": {
      "name": "python"
    }
  },
  "cells": [
    {
      "cell_type": "markdown",
      "metadata": {
        "id": "CulqX1uiYClr"
      },
      "source": [
        "# **1 Linear Algebra**\n",
        "\n",
        "Using the linear algebra book of your choice. Prove the following statements\n",
        "\n",
        "  1. Show that if a matrix $A \\in \\mathbb{R}^{n \\times n}$ satisfies $A^2 = 4I_n$, then all eigenvalues of $A$ are 2 and -2.\n",
        "\n",
        "  2. Let $A$, $B$ $\\in \\mathbb{R}^{n \\times n}$. Proof that the matrix $AB-BA$ can never be positive semidefinite unless it is the zero matrix.\n",
        "\n",
        "  3. If a matrix $P \\in \\mathbb{R}^{n \\times n}$ satisfies $P^2 = P$, then all its eigenvalues must be 1 or 0.\n",
        "\n",
        "  4. The columns of the matrix $A \\in \\mathbb{R}^{n \\times d}$ are linearly independent if and only if $c(x) = Ax$ is one-to-one function."
      ]
    },
    {
      "cell_type": "markdown",
      "metadata": {
        "id": "f3JyNj4Qb-2X"
      },
      "source": [
        "# **2 Write a code**\n",
        "\n",
        "Using the deep learning library of your choice, solve the following:\n",
        "\n",
        "  1. The second difference matrix $A \\in \\mathbb{R}^{n \\times n}$ arises in approximating the second derivative on equally spaced data. The formula is:\n",
        "\n",
        "  $$A_{i,j} =  \\Bigg\\{ \\begin{array}{rcl} -2 & \\textrm{if} & j=i  \\\\ \n",
        "  1 & \\textrm{if} &  |j-1| = 1 \\\\ \n",
        "  0 & \\textrm{if} & |j-1| > 1 \\end{array}$$\n",
        "\n",
        "  Write a code that allows you to create this matrix for a given $n$ and find in the literature the characteristics of this matrix. Then, solve a system of equations $A\\textbf{x} = \\textbf{b}$ by :\n",
        "\n",
        "    (a) Calculating the inverse directly.\n",
        "\n",
        "    (b) Employing a numeric strategy for this particular form of matrices.\n",
        "\n",
        "    (c) Create a graphs of computational time and memory cost."
      ]
    },
    {
      "cell_type": "code",
      "metadata": {
        "colab": {
          "base_uri": "https://localhost:8080/"
        },
        "id": "turRunw7mzeX",
        "outputId": "3e9356d0-e234-4895-d635-6278246059b7"
      },
      "source": [
        "# Create a matrix\n",
        "\n",
        "import tensorflow as tf\n",
        "\n",
        "def mx(n):\n",
        "  matriz = tf.linalg.LinearOperatorTridiag([[1. for _ in range(n)], \n",
        "                                            [-2. for _ in range(n)],\n",
        "                                            [1. for _ in range(n)]])\n",
        "  return(matriz)"
      ],
      "execution_count": 2,
      "outputs": [
        {
          "output_type": "execute_result",
          "data": {
            "text/plain": [
              "<tf.Tensor: shape=(5, 5), dtype=float32, numpy=\n",
              "array([[-2.,  1.,  0.,  0.,  0.],\n",
              "       [ 1., -2.,  1.,  0.,  0.],\n",
              "       [ 0.,  1., -2.,  1.,  0.],\n",
              "       [ 0.,  0.,  1., -2.,  1.],\n",
              "       [ 0.,  0.,  0.,  1., -2.]], dtype=float32)>"
            ]
          },
          "metadata": {
            "tags": []
          },
          "execution_count": 2
        }
      ]
    },
    {
      "cell_type": "markdown",
      "metadata": {
        "id": "Hx0L2d-Uooqz"
      },
      "source": [
        "## (a) Calculating the inverse directly\n",
        "\n",
        "Para realizar esto utilizo la función `linalg.inv` de la librería de `TensorFlow`."
      ]
    },
    {
      "cell_type": "code",
      "metadata": {
        "colab": {
          "base_uri": "https://localhost:8080/"
        },
        "id": "sZS2sBX7oF9g",
        "outputId": "375190f0-0424-4774-d1a5-a3559b69d043"
      },
      "source": [
        "my_matrix = mx(5).to_dense()\n",
        "\n",
        "print(my_matrix)"
      ],
      "execution_count": 7,
      "outputs": [
        {
          "output_type": "stream",
          "text": [
            "tf.Tensor(\n",
            "[[-2.  1.  0.  0.  0.]\n",
            " [ 1. -2.  1.  0.  0.]\n",
            " [ 0.  1. -2.  1.  0.]\n",
            " [ 0.  0.  1. -2.  1.]\n",
            " [ 0.  0.  0.  1. -2.]], shape=(5, 5), dtype=float32)\n"
          ],
          "name": "stdout"
        }
      ]
    }
  ]
}