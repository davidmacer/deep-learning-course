{
  "nbformat": 4,
  "nbformat_minor": 0,
  "metadata": {
    "colab": {
      "name": "tarea_01.ipynb",
      "provenance": []
    },
    "kernelspec": {
      "name": "python3",
      "display_name": "Python 3"
    },
    "language_info": {
      "name": "python"
    }
  },
  "cells": [
    {
      "cell_type": "markdown",
      "metadata": {
        "id": "f-mZ7hu64UrC"
      },
      "source": [
        "# 1. Deep Learning\n",
        "\n",
        "Using the search engine of your choice, make a SYNTHESIS of the different deep learning libraries that are available (at least 3).\n",
        "\n",
        "| Librería | Descripción | Casos de uso |\n",
        "| :---: | :---: | :---: | :---: |\n",
        "| TensorFlow | Es una librería de -open source_ que ayuda a desarrollar y entrenar modelos de machine learning$^1$. Puede utilizarse en un rango amplio de tareas, pero tiene particular enfoque en entrenamiento y en inferencia de redes neuronales profundas$^2&. | Reconocimiento de voz y sonido; aplicaciones basadas en texto; Series de tiempo; Deteccin de video. |\n",
        "| Keras | Es una API construida sobre el ecosistema de TensorFlow 2.0. Ofrece APis consistentes y simples, minimiza el número de acciones del usuario requeridas para los casos de uso comunes y provee mensajes de error limpios y accionables$^3$. Es una poderosa librería de software abierto que provee una interface de Python para el desarrollo de redes neuronales artificiales y modelos de _deep learning_$^4$. | Procesamiento de lenguaje natural; clasificacin de imgenes; clasificacin de nubes de puntos. |\n",
        "| Pytorch | Es una librería de _open source_ basada en la librería Torch. Tiene una facilidad de uso y una de sus ventajas es que tiene una capacidad nativa para ejecutar en la GPU, lo que permite acelerar procesos tradicionalmente lentos como el entrenamiento de modelos$^5$.  | Reconocimiento de imágenes; reconocimiento de voz; sistemas de traducción automática. |\n",
        "\n",
        "\n",
        "- [[1](https://www.tensorflow.org/)](https://www.tensorflow.org/)\n",
        "- [[2](https://es.wikipedia.org/wiki/TensorFlow)](https://es.wikipedia.org/wiki/TensorFlow)\n",
        "- [[3](https://keras.io/)](https://keras.io/)\n",
        "- [[4](https://machinelearningmastery.com/tutorial-first-neural-network-python-keras/)](https://machinelearningmastery.com/tutorial-first-neural-network-python-keras/)\n",
        "- [[5](https://www.paradigmadigital.com/dev/introduccion-pytorch/)](https://www.paradigmadigital.com/dev/introduccion-pytorch/)"
      ]
    },
    {
      "cell_type": "markdown",
      "metadata": {
        "id": "gtdQTwmF7dBn"
      },
      "source": [
        "# 2. Norm\n",
        "\n",
        "Proof the next statements\n",
        "\n",
        "1. For a vector $x \\in \\mathbb{R}^2$\n",
        "\n",
        "  (a) $||x||_{\\infty} \\le ||x||_{1} \\le ||x||_{\\infty}$\n",
        "  \n",
        "  (b) $||x||_{\\infty} \\le ||x||_{2} \\le \\sqrt{n}||x||_{\\infty}$\n",
        "\n",
        "  (c) $||x||_{2} \\le ||x||_{1} \\le \\sqrt{n}||x||_{2}$\n",
        "\n",
        "2. For any two vectors $x$ and $y$, which are each of length _a_, show that:\n",
        "\n",
        "  (a) $x-y$ ir orthogonal to $x+y$\n",
        "\n",
        "  (b) the dot product of $x-3y$ and $x+3y$ is negative."
      ]
    },
    {
      "cell_type": "markdown",
      "metadata": {
        "id": "K5_IL0TJ-qce"
      },
      "source": [
        "# 3. Matrix operations\n",
        "\n",
        "Show that any matrix product $AB$ can be expressed in the form $A' \\Delta B'$ where $A'$ is a matrix in which the sum of the squares of the entries in each column is 1, $B'$ is a matrix in which the sum of the squares of the entries in each row is 1, and $\\Delta$ is an appropriately chosen diagonal matrix with non-negative entries\n",
        "on the diagonal."
      ]
    },
    {
      "cell_type": "markdown",
      "metadata": {
        "id": "Eqr8Kg_q_dot"
      },
      "source": [
        "#4 Write a code\n",
        "\n",
        "Consider a situation in which you have three matrices $A$, $B$, and $C$, of sizes $n \\times m$, $m \\times n$, and $n \\times n$, respectively. For $n \\gt\\gt m$\n",
        "\n",
        "  1. Suppose you had to compute the matrix product $ABC$. From an efficiency perspective, would it computationally make more sense to compute $(AB)C$ or would it make more sense to compute $A(BC)$?\n",
        "  2. If you had to compute the matrix product $CAB$, would it make more sense to compute $(CA)B$ or $C(AB)$?\n",
        "  \n",
        "Write a code to illustrate the problem for different values of n, m."
      ]
    },
    {
      "cell_type": "code",
      "metadata": {
        "id": "7BITLhPs27iN"
      },
      "source": [
        "1. "
      ],
      "execution_count": null,
      "outputs": []
    }
  ]
}