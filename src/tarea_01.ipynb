{
 "cells": [
  {
   "cell_type": "markdown",
   "metadata": {
    "id": "f-mZ7hu64UrC"
   },
   "source": [
    "# 1. Deep Learning\n",
    "\n",
    "Using the search engine of your choice, make a SYNTHESIS of the different deep learning libraries that are available (at least 3).\n",
    "\n",
    "| Librería | Descripción | Casos de uso |\n",
    "| :---: | :---: | :---: |\n",
    "| TensorFlow | Es una librería de -open source_ que ayuda a desarrollar y entrenar modelos de machine learning$^1$. Puede utilizarse en un rango amplio de tareas, pero tiene particular enfoque en entrenamiento y en inferencia de redes neuronales profundas$^2$. | Reconocimiento de voz y sonido; aplicaciones basadas en texto; Series de tiempo; Deteccin de video. |\n",
    "| Keras | Es una API construida sobre el ecosistema de TensorFlow 2.0. Ofrece APis consistentes y simples, minimiza el número de acciones del usuario requeridas para los casos de uso comunes y provee mensajes de error limpios y accionables$^3$. Es una poderosa librería de software abierto que provee una interface de Python para el desarrollo de redes neuronales artificiales y modelos de _deep learning_$^4$. | Procesamiento de lenguaje natural; clasificacin de imgenes; clasificacin de nubes de puntos. |\n",
    "| Pytorch | Es una librería de _open source_ basada en la librería Torch. Tiene una facilidad de uso y una de sus ventajas es que tiene una capacidad nativa para ejecutar en la GPU, lo que permite acelerar procesos tradicionalmente lentos como el entrenamiento de modelos$^5$.  | Reconocimiento de imágenes; reconocimiento de voz; sistemas de traducción automática. |\n",
    "\n",
    "\n",
    "- [[1](https://www.tensorflow.org/)] (https://www.tensorflow.org/)\n",
    "- [[2](https://es.wikipedia.org/wiki/TensorFlow)] (https://es.wikipedia.org/wiki/TensorFlow)\n",
    "- [[3](https://keras.io/)] (https://keras.io/)\n",
    "- [[4](https://machinelearningmastery.com/tutorial-first-neural-network-python-keras/)] (https://machinelearningmastery.com/tutorial-first-neural-network-python-keras/)\n",
    "- [[5](https://www.paradigmadigital.com/dev/introduccion-pytorch/)] (https://www.paradigmadigital.com/dev/introduccion-pytorch/)"
   ]
  },
  {
   "cell_type": "markdown",
   "metadata": {
    "id": "gtdQTwmF7dBn"
   },
   "source": [
    "# 2. Norm\n",
    "\n",
    "Proof the next statements\n",
    "\n",
    "1. For a vector $x \\in \\mathbb{R}^2$\n",
    "\n",
    "  (a) $||x||_{\\infty} \\le ||x||_{1} \\le ||x||_{\\infty}$\n",
    "  \n",
    "  (b) $||x||_{\\infty} \\le ||x||_{2} \\le \\sqrt{n}||x||_{\\infty}$\n",
    "\n",
    "  (c) $||x||_{2} \\le ||x||_{1} \\le \\sqrt{n}||x||_{2}$\n",
    "\n",
    "**Solución:**\n",
    "\n",
    "  Definimos el vector $x$ como:\n",
    "\n",
    "  $$\n",
    "  \\textbf{x} = \n",
    "  \\begin{bmatrix}\n",
    "  x_1 \\\\\n",
    "  x_2\n",
    "  \\end{bmatrix}\n",
    "  $$\n",
    "\n",
    "  y $n > 0$.\n",
    "\n",
    "  **(a)** $||x||_{\\infty} \\le ||x||_{1} \\le n||x||_{\\infty}$\n",
    "\n",
    "  $$max(x_1, x_2) \\le max(x_1 + x_2) \\le n \\cdot max(x_1, x_2)$$\n",
    "  \n",
    "  **(b)** $||x||_{\\infty} \\le ||x||_{2} \\le \\sqrt{n}||x||_{\\infty}$\n",
    "\n",
    "  $$max(x_1, x_2) \\le \\sigma_{max}(\\textbf{x}) \\le \\sqrt{n} \\cdot max(x_1, x_2),$$\n",
    "\n",
    "  donde $\\sigma_{max}(\\textbf{x}) es el eigenvalor mayor.\n",
    "\n",
    "  **(c)** $||x||_{2} \\le ||x||_{1} \\le \\sqrt{n}||x||_{2}$\n",
    "\n",
    "  $$\\sigma_{max}(\\textbf{x}) \\le max(x_1 + x_2) \\le \\sqrt{n} \\cdot \\sigma_{max}(\\textbf{x})$$"
   ]
  },
  {
   "cell_type": "markdown",
   "metadata": {},
   "source": [
    "2. For any two vectors $\\textbf{x}$ and $\\textbf{y}$, wich are each of length $a_1$, show that:\n",
    "\n",
    "  (a) $\\textbf{x}-\\textbf{y}$ is orthogonal to $\\textbf{x}+\\textbf{y}$\n",
    "\n",
    "  Si dos vectores son ortogonales quiere decir que el producto punto entre ellos debe ser igual a cero.\n",
    "\n",
    "  $$\\langle \\textbf{x}-\\textbf{y},\\textbf{x}+\\textbf{y} \\rangle = \\langle \\textbf{x},\\textbf{x} \\rangle - \\langle \\textbf{x},\\textbf{y} \\rangle + \\langle \\textbf{y},\\textbf{x} \\rangle - \\langle \\textbf{y},\\textbf{y} \\rangle$$\n",
    "  \n",
    "  $$\\langle \\textbf{x}-\\textbf{y},\\textbf{x}+\\textbf{y} \\rangle = ||\\textbf{x}|| - 0 - ||\\textbf{y}||$$\n",
    "  \n",
    "  $$\\langle \\textbf{x}-\\textbf{y},\\textbf{x}+\\textbf{y} \\rangle = ||\\textbf{x}|| - 0 - ||\\textbf{y}||$$\n",
    "  \n",
    "  y ya que la magnitud de los vectores $\\textbf{x}$ y $\\textbf{y}$ es la misma, $a_1$, tenemos que\n",
    "  \n",
    "  $$\\langle \\textbf{x}-\\textbf{y},\\textbf{x}+\\textbf{y} \\rangle = a_1 - a_1 = 0,$$\n",
    "  \n",
    "  por lo tanto, los $\\textbf{x}-\\textbf{y}$ **sí es ortogonal** a $\\textbf{x}+\\textbf{y}$\n",
    "  \n",
    "  ---\n",
    "  \n",
    "  (b) the dot product of $\\textbf{x}-3\\textbf{y}$ and $\\textbf{x}+3\\textbf{y}$ is negative.\n",
    "  \n",
    "  $$\\langle \\textbf{x}-3\\textbf{y}, \\textbf{x}+3\\textbf{y} \\rangle = x^2 + 3xy - 3xy - 9y^2$$\n",
    "  \n",
    "  $$\\langle \\textbf{x}-3\\textbf{y}, \\textbf{x}+3\\textbf{y} \\rangle = a_1^2 + 3a_1^2 - 3a_1^2 - 9a_1^2$$\n",
    "  \n",
    "  $$\\langle \\textbf{x}-3\\textbf{y}, \\textbf{x}+3\\textbf{y} \\rangle = -8a_1^2$$\n",
    "  \n",
    "  Por lo tanto, comprobamos que el producto punto de $\\textbf{x}-3\\textbf{y}$ and $\\textbf{x}+3\\textbf{y}$ es negativo.\n"
   ]
  },
  {
   "cell_type": "markdown",
   "metadata": {},
   "source": [
    "  "
   ]
  },
  {
   "cell_type": "markdown",
   "metadata": {
    "id": "K5_IL0TJ-qce"
   },
   "source": [
    "# 3 Matrix operations\n",
    "\n",
    "Show that any matrix product $AB$ can be expressed in the form $A' \\Delta B'$ where $A'$ is a matrix in which the sum of the squares of the entries in each column is 1, $B'$ is a matrix in which the sum of the squares of the entries in each row is 1, and $\\Delta$ is an appropriately chosen diagonal matrix with non-negative entries\n",
    "on the diagonal."
   ]
  },
  {
   "cell_type": "markdown",
   "metadata": {
    "id": "Eqr8Kg_q_dot"
   },
   "source": [
    "# 4 Write a code\n",
    "\n",
    "Consider a situation in which you have three matrices $A$, $B$, and $C$, of sizes $n \\times m$, $m \\times n$, and $n \\times n$, respectively. For $n \\gt\\gt m$\n",
    "\n",
    "  1. Suppose you had to compute the matrix product $ABC$. From an efficiency perspective, would it computationally make more sense to compute $(AB)C$ or would it make more sense to compute $A(BC)$?\n",
    "  2. If you had to compute the matrix product $CAB$, would it make more sense to compute $(CA)B$ or $C(AB)$?\n",
    "  \n",
    "Write a code to illustrate the problem for different values of n, m."
   ]
  },
  {
   "cell_type": "code",
   "execution_count": 5,
   "metadata": {
    "id": "7BITLhPs27iN"
   },
   "outputs": [
    {
     "name": "stdout",
     "output_type": "stream",
     "text": [
      "[0.00029553298372775316]\n",
      "[0.00029553298372775316, 0.00019299800624139607]\n",
      "[0.00029553298372775316, 0.00019299800624139607, 0.00016939901979640126]\n",
      "[0.00029553298372775316, 0.00019299800624139607, 0.00016939901979640126, 0.0001699279819149524]\n",
      "[0.00029553298372775316, 0.00019299800624139607, 0.00016939901979640126, 0.0001699279819149524, 0.00016855000285431743]\n"
     ]
    }
   ],
   "source": [
    "import numpy as np\n",
    "import timeit\n",
    "\n",
    "resultado_1 = []\n",
    "\n",
    "for i in np.arange(len(n)):\n",
    "    A = np.random.rand(50,40)\n",
    "    B = np.random.rand(40,50)\n",
    "    C = np.random.rand(50,50)\n",
    "    \n",
    "    resultado_1.append(timeit.timeit('A.dot(B).dot(C)', 'from __main__ import np, A, B, C', number=1))\n",
    "    print(resultado_1)\n",
    "    #resultado_2 = resultado_2.append(timeit.timeit('A.dot(B.dot(C))', 'from __main__ import np, A, B, C', number=n))\n"
   ]
  },
  {
   "cell_type": "code",
   "execution_count": 7,
   "metadata": {},
   "outputs": [
    {
     "name": "stdout",
     "output_type": "stream",
     "text": [
      "La multiplicación A(BC) es más eficiente que A(BC). La multiplicación (AB)C se realizó en un tiempo de 0.00041 s, mientras que la multiplicación A(BC) se realizó en un tiempo de 0.00021 s.\n"
     ]
    }
   ],
   "source": [
    "resultado_1 = timeit.timeit('A.dot(B).dot(C)', 'from __main__ import np, A, B, C', number=1)\n",
    "resultado_2 = timeit.timeit('A.dot(B.dot(C))', 'from __main__ import np, A, B, C', number=1)\n",
    "\n",
    "primera_parte = \". La multiplicación (AB)C se realizó en un tiempo de \" + str(round(resultado_1,5)) + \" s, mientras que la multiplicación A(BC) se realizó en un tiempo de \" + str(round(resultado_2,5)) + \" s.\"\n",
    "\n",
    "if resultado_1 < resultado_2:\n",
    "    print(\"La multiplicación (AB)C es más eficiente que A(BC)\" + primera_parte)\n",
    "else:\n",
    "    print(\"La multiplicación A(BC) es más eficiente que A(BC)\" + primera_parte)\n"
   ]
  },
  {
   "cell_type": "code",
   "execution_count": 9,
   "metadata": {},
   "outputs": [
    {
     "name": "stdout",
     "output_type": "stream",
     "text": [
      "La multiplicación C(AB) es más eficiente que A(BC). La multiplicación (CA)B se realizó en un tiempo de 0.00041 s, mientras que la multiplicación C(AB) se realizó en un tiempo de 0.00021 s.\n"
     ]
    }
   ],
   "source": [
    "resultado_3 = timeit.timeit('C.dot(A).dot(B)', 'from __main__ import np, A, B, C', number=1)\n",
    "resultado_4 = timeit.timeit('C.dot(A.dot(B))', 'from __main__ import np, A, B, C', number=1)\n",
    "\n",
    "primera_parte = \". La multiplicación (CA)B se realizó en un tiempo de \" + str(round(resultado_1,5)) + \" s, mientras que la multiplicación C(AB) se realizó en un tiempo de \" + str(round(resultado_2,5)) + \" s.\"\n",
    "\n",
    "if resultado_1 < resultado_2:\n",
    "    print(\"La multiplicación (CA)B es más eficiente que A(BC)\" + primera_parte)\n",
    "else:\n",
    "    print(\"La multiplicación C(AB) es más eficiente que A(BC)\" + primera_parte)\n"
   ]
  }
 ],
 "metadata": {
  "colab": {
   "name": "tarea_01.ipynb",
   "provenance": []
  },
  "kernelspec": {
   "display_name": "Python 3.8.5 64-bit",
   "language": "python",
   "name": "python385jvsc74a57bd031f2aee4e71d21fbe5cf8b01ff0e069b9275f58929596ceb00d14d90e3e16cd6"
  },
  "language_info": {
   "codemirror_mode": {
    "name": "ipython",
    "version": 3
   },
   "file_extension": ".py",
   "mimetype": "text/x-python",
   "name": "python",
   "nbconvert_exporter": "python",
   "pygments_lexer": "ipython3",
   "version": "3.8.5"
  },
  "metadata": {
   "interpreter": {
    "hash": "31f2aee4e71d21fbe5cf8b01ff0e069b9275f58929596ceb00d14d90e3e16cd6"
   }
  }
 },
 "nbformat": 4,
 "nbformat_minor": 1
}
