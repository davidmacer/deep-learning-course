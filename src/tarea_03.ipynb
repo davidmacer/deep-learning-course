{
  "nbformat": 4,
  "nbformat_minor": 0,
  "metadata": {
    "colab": {
      "name": "tarea_03.ipynb",
      "provenance": [],
      "collapsed_sections": []
    },
    "kernelspec": {
      "name": "python3",
      "display_name": "Python 3"
    },
    "language_info": {
      "name": "python"
    }
  },
  "cells": [
    {
      "cell_type": "markdown",
      "metadata": {
        "id": "mqtMeIBx2Ztc"
      },
      "source": [
        "# Deep learning\n",
        "\n",
        "# CentroGeo\n",
        "\n",
        "## Jorge David Martínez Cervantes\n",
        "\n",
        "## 24 de mayo del 2021"
      ]
    },
    {
      "cell_type": "markdown",
      "metadata": {
        "id": "q9NzvPmQmikz"
      },
      "source": [
        "# 1 Optimization\n",
        "\n",
        "Remember thar the optimality conditions in order to minimise a function $f : \\mathbb{R}^2 \\rightarrow \\mathbb{R}$ are:\n",
        "\n",
        "  1. $\\triangledown f(x^*) = 0.$\n",
        "  2. $H_f(x^*)$ is positive definite (PD)."
      ]
    },
    {
      "cell_type": "markdown",
      "metadata": {
        "id": "W8_dp-cbpYdw"
      },
      "source": [
        "## 1.1 Distance\n",
        "\n",
        "In geospatial sciences the notion of distance is important. For now we are going to consider the square of distance functions for $\\mathbb{R}^n$ defined as:\n",
        "\n",
        "$$d^2_M(\\textbf{x}-\\textbf{y}) = (\\textbf{x}-\\textbf{y})^T M(\\textbf{x}-\\textbf{y})$$\n",
        "\n",
        "where $M$ is a PD matrix. For a given set of points $\\textbf{x}_i$, from $i = 1,2,...,K$ in $\\mathbb{R}^3$, consider the cost function defined as:\n",
        "\n",
        "$$D_M(\\bar{\\textbf{x}}) = \\sum{d^2_M(\\textbf{x}_i,\\bar{\\textbf{x}}})$$\n",
        "\n",
        "  1. Find $\\bar{\\textbf{x}}$ that minimizes $D_M$.\n",
        "\n",
        "  Utilizando la ecuación (86) de [1], y si suponemos que $\\bar{\\textbf{x}} = \\textbf{y},$ obtenemos\n",
        "\n",
        "  $$\\frac{\\partial D_M(\\bar{\\textbf{x}})}{\\partial \\bar{\\textbf{x}}} = -2M \\sum_{i=1}^{K}{\\textbf{x}_i - \\bar{\\textbf{x}}},$$\n",
        "\n",
        "  $$\\frac{\\partial D_M(\\bar{\\textbf{x}})}{\\partial \\bar{\\textbf{x}}} = -2MK \\sum_{i=1}^{K}{\\textbf{x}_i + 2MK \\bar{\\textbf{x}}}$$\n",
        "\n",
        "  $$\\frac{\\partial D_M(\\bar{\\textbf{x}})}{\\partial \\bar{\\textbf{x}}} = 0$$\n",
        "\n",
        "  $$0 = -2MK \\sum_{i=1}^{K}{\\textbf{x}_i + 2MK \\bar{\\textbf{x}}}$$\n",
        "\n",
        "  $$-2MK \\sum_{i=1}^{K}{\\textbf{x}_i = 2MK \\bar{\\textbf{x}}}$$\n",
        "\n",
        "  $$\\sum_{i=1}^{K}{\\textbf{x}_i = \\bar{\\textbf{x}}}$$\n",
        "  \n",
        "  $$\\frac{1}{K}\\sum_{i=1}^{K}{\\textbf{x}_i = \\bar{\\textbf{x}}}$$\n",
        "\n",
        "  1. Write a code to test your results from different $M$ matrices.\n",
        "  1. Explain your results in therms of the eigen-values and eigen-vector of $M$."
      ]
    },
    {
      "cell_type": "code",
      "metadata": {
        "colab": {
          "base_uri": "https://localhost:8080/",
          "height": 296
        },
        "id": "XCSnoqo9fGSh",
        "outputId": "8759fb2f-e644-4e9f-e818-3beb89e9e552"
      },
      "source": [
        "import numpy as np\n",
        "\n",
        "k = 10 # cantidad de elementos dados\n",
        "n = 30\n",
        "\n",
        "x = np.random.random((k,3))\n",
        "x_prom = x.sum(axis=0)\n",
        "\n",
        "lista_eivalues =[]\n",
        "lista_eivector =[]\n",
        "lista_distancia =[]\n",
        "\n",
        "for i in range(n):\n",
        "  M = np.random.rand(3,3)\n",
        "  eivalues, eivectors = np.linalg.eig(M)\n",
        "  lista_eivalues.append(eivalues)\n",
        "  lista_eivector.append(eivectors)\n",
        "  \n",
        "  dist_aux = 0\n",
        "  for i in range(k):\n",
        "    dist_aux += np.dot(np.dot((x[i]-x_prom).T,M),(x[i]-x_prom))\n",
        "  lista_distancia.append(dist_aux)\n",
        "\n",
        "import matplotlib.pyplot as plt\n",
        "\n",
        "plt.plot(lista_distancia)\n",
        "plt.xlabel(\"Índices\")\n",
        "plt.ylabel(\"Distancia\")"
      ],
      "execution_count": 55,
      "outputs": [
        {
          "output_type": "execute_result",
          "data": {
            "text/plain": [
              "Text(0, 0.5, 'Distancia')"
            ]
          },
          "metadata": {
            "tags": []
          },
          "execution_count": 55
        },
        {
          "output_type": "display_data",
          "data": {
            "image/png": "[encoded data removed]",
            "text/plain": [
              "<Figure size 432x288 with 1 Axes>"
            ]
          },
          "metadata": {
            "tags": [],
            "needs_background": "light"
          }
        }
      ]
    },
    {
      "cell_type": "markdown",
      "metadata": {
        "id": "oFib9PxNrJjU"
      },
      "source": [
        "## 1.2 Regression\n",
        "\n",
        "Consider the problem of regression:\n",
        "\n",
        "$$y = f(x) = \\textbf{x}^T W \\textbf{x} + \\textbf{x}^T\\textbf{w} + w,$$\n",
        "\n",
        "where $y \\in \\mathbb{R}^N$, $\\textbf{x} \\in \\mathbb{R}^N$, $W \\in \\mathbb{R}^{N \\times N}$ is a simmetric PD matrix, $\\textbf{w} \\in \\mathbb{R}^N$ and $w \\in \\mathbb{R}$. Given a set of observations {$\\textbf{x}_i,y_i$}, from $i=1,2,...,M$:\n",
        "\n",
        "  1. Find the optimal parameters $W$, $\\textbf{w}$ and $w$ that minimize:\n",
        "\n",
        "  $$E(\\hat{\\textbf{w}}) = \\sum_{i=1}^{K} (y_i - (\\textbf{x}_i^T W \\textbf{x}_i + \\textbf{x}_i^T \\textbf{w} + w))^2,$$\n",
        "\n",
        "  where $\\hat{\\textbf{w}}$ is a vector containing _the necessary values_ to build $f(\\textbf{x}).$\n",
        "\n",
        "  1. Write a code to simulate the problem."
      ]
    },
    {
      "cell_type": "markdown",
      "metadata": {
        "id": "w0BkjArBb6Jm"
      },
      "source": [
        "# Referencias\n",
        "\n",
        "[1](https://www.math.uwaterloo.ca/~hwolkowi/matrixcookbook.pdf)(https://www.math.uwaterloo.ca/~hwolkowi/matrixcookbook.pdf)"
      ]
    },
    {
      "cell_type": "code",
      "metadata": {
        "id": "7hPuLLCpmZjy"
      },
      "source": [
        ""
      ],
      "execution_count": null,
      "outputs": []
    }
  ]
}