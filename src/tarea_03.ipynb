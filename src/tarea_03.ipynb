{
  "nbformat": 4,
  "nbformat_minor": 0,
  "metadata": {
    "colab": {
      "name": "Untitled0.ipynb",
      "provenance": [],
      "collapsed_sections": []
    },
    "kernelspec": {
      "name": "python3",
      "display_name": "Python 3"
    },
    "language_info": {
      "name": "python"
    }
  },
  "cells": [
    {
      "cell_type": "markdown",
      "metadata": {
        "id": "q9NzvPmQmikz"
      },
      "source": [
        "# 1 Optimization\n",
        "\n",
        "Remember thar the optimality conditions in order to minimise a function $f : \\mathbb{R}^2 \\rightarrow \\mathbb{R}$ are:\n",
        "\n",
        "  1. $\\triangledown f(x^*) = 0.$\n",
        "  2. $H_f(x^*)$ is positive definite (PD)."
      ]
    },
    {
      "cell_type": "markdown",
      "metadata": {
        "id": "W8_dp-cbpYdw"
      },
      "source": [
        "## 1.1 Distance\n",
        "\n",
        "In geospatial sciences the notion of distance is important. For now we are going to consider the square of distance functions for $\\mathbb{R}^n$ defined as:\n",
        "\n",
        "$$d^2_M(\\textbf{x}-\\textbf{y}) = (\\textbf{x}-\\textbf{y})^T M(\\textbf{x}-\\textbf{y})$$\n",
        "\n",
        "where $M$ is a PD matrix. For a given set of points $x_i$, from $i = 1,2,...,K$ in $\\mathbb{R}^3$, consider the cost function defined as:\n",
        "\n",
        "$$D_M(\\bar{\\textbf{x}}) = \\sum{d^2_M(x_i,\\bar{\\textbf{x}}})$$\n",
        "\n",
        "  1. Find $\\bar{\\textbf{x}}$ that minimizes $D_M$.\n",
        "  1. Write a code to test your results from different $M$ matrices.\n",
        "  1. Explain your results in therms of the eigen-values and eigen-vector of $M$."
      ]
    },
    {
      "cell_type": "markdown",
      "metadata": {
        "id": "oFib9PxNrJjU"
      },
      "source": [
        "## 1.2 Regression\n",
        "\n",
        "Consider the problem of regression:\n",
        "\n",
        "$$y = f(x) = \\textbf{x}^T W \\textbf{x} + \\textbf{x}^T\\textbf{w} + w,$$\n",
        "\n",
        "where $y \\in \\mathbb{R}^N$, $\\textbf{x} \\in \\mathbb{R}^N$, $W \\in \\mathbb{R}^{N \\times N}$ is a simmetric PD matrix, $\\textbf{w} \\in \\mathbb{R}^N$ and $w \\in \\mathbb{R}$. Given a set of observations {$\\textbf{x}_i,y_i$}, from $i=1,2,...,M$:\n",
        "\n",
        "  1. Find the optimal parameters $W$, $\\textbf{w}$ and $w$ that minimize:\n",
        "\n",
        "  $$E(\\hat{\\textbf{w}}) = \\sum_{i=1}^{K} (y_i - (\\textbf{x}_i^T W \\textbf{x}_i + \\textbf{x}_i^T \\textbf{w} + w)),$$\n",
        "\n",
        "  where $\\hat{\\textbf{w}}$ is a vector containing _the necessary values_ to build $f(\\textbf{x}).$\n",
        "\n",
        "  1. Write a code to simulate the problem."
      ]
    },
    {
      "cell_type": "code",
      "metadata": {
        "id": "7hPuLLCpmZjy"
      },
      "source": [
        ""
      ],
      "execution_count": null,
      "outputs": []
    }
  ]
}